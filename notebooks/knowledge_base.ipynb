{
 "cells": [
  {
   "cell_type": "markdown",
   "metadata": {},
   "source": [
    "# Bedrock Knowledge Base via Your own Opensearch Database\n",
    "If you have have any questions, please feel free to contact Hao Huang (tonyhh@amazon.com, GAIIC), Dong Xiaoqun(xiaoqunn@amazon.com, GenAI SSA)."
   ]
  },
  {
   "cell_type": "markdown",
   "metadata": {},
   "source": [
    "- Step 0. Pre-request\n",
    "- Step 1. Authentication\n",
    "- Step 2. Build Amazon Opensearch Serveless Vector Database\n",
    "- Step 3. Insert Knowledge to AOS\n",
    "- Step 4. Create Bedrock Knowledge Base\n",
    "    * Step 4.1. Create Bedrock Knowledge Base Role\n",
    "    * Step 4.2. Update collection policy\n",
    "- Step 5. Test knowledge bases\n",
    "    * Step 5.1. Test knowledge bases retrive\n",
    "    * Step 5.2. Test knowledge bases retrive and generate\n",
    "    * Step 5.3. Associate to an agent and test\n",
    "- Step 6. Delete resource"
   ]
  },
  {
   "cell_type": "markdown",
   "metadata": {},
   "source": [
    "### Step 0. Pre-request"
   ]
  },
  {
   "cell_type": "code",
   "execution_count": null,
   "metadata": {},
   "outputs": [],
   "source": [
    "!pip install opensearch-py\n",
    "!pip install requests-aws4auth\n",
    "!pip install boto3"
   ]
  },
  {
   "cell_type": "markdown",
   "metadata": {},
   "source": [
    "### Step 1. Authentication"
   ]
  },
  {
   "cell_type": "code",
   "execution_count": null,
   "metadata": {},
   "outputs": [],
   "source": [
    "import os\n",
    "import json\n",
    "import boto3\n",
    "import botocore\n",
    "import logging\n",
    "import pprint\n",
    "import time\n",
    "\n",
    "# from uuid import uuid4\n",
    "from opensearchpy import OpenSearch, RequestsHttpConnection\n",
    "from requests_aws4auth import AWS4Auth\n",
    "from utils import (\n",
    "    createEncryptionPolicy,\n",
    "    createNetworkPolicy,\n",
    "    createCollection,\n",
    "    waitForCollectionCreation,\n",
    "    short_uuid,\n",
    "    createAccessPolicy,\n",
    "    updateAccessPolicy,\n",
    "    progress_bar\n",
    ")\n",
    "\n",
    "logging.basicConfig(\n",
    "    format='[%(asctime)s] p%(process)s {%(filename)s:%(lineno)d} %(levelname)s - %(message)s',\n",
    "    level=logging.INFO,\n",
    "    encoding=\"utf-8\"\n",
    ")\n",
    "logger = logging.getLogger(__name__)\n",
    "account_id = \"\" # input your account id\n",
    "role_arn = \"\" # Could find in IAM console, e.g. arn:aws:iam::{acount_id}:user/demo-test\n",
    "service = 'aoss'\n",
    "region = 'us-east-1'\n",
    "credentials = boto3.Session().get_credentials()\n",
    "aws_access_key_id = credentials.access_key # you can modify to your access_key \n",
    "aws_secret_access_key = credentials.secret_key  # you can modify to your secret_key \n",
    "awsauth = AWS4Auth(\n",
    "    aws_access_key_id,\n",
    "    aws_secret_access_key,\n",
    "    region,\n",
    "    service,\n",
    ")\n",
    "id = short_uuid()\n"
   ]
  },
  {
   "cell_type": "markdown",
   "metadata": {},
   "source": [
    "### Step 2. Build Amazon Opensearch Serveless Vector Database\n"
   ]
  },
  {
   "cell_type": "code",
   "execution_count": null,
   "metadata": {},
   "outputs": [],
   "source": [
    "# Notice: INDEX_NAME name need to start with \"bedrock-knowledge-\" for demo, we set all the policy below for \"bedrock-knowledge-demo-\". Or you can modify all the policy function for collection name.\n",
    "client = boto3.client('opensearchserverless', region, aws_access_key_id=aws_access_key_id, aws_secret_access_key=aws_secret_access_key)\n",
    "Index_Name = f\"bedrock-kb-demo-{id}\" \n",
    "Collection_Name = f\"bedrock-kb-demo-{id}\"  \n",
    "\n",
    "# Creates an encryption policy\n",
    "encryption_policy_name = createEncryptionPolicy(client, Collection_Name, id)\n",
    "\n",
    "#Creates an network policy\n",
    "network_polic_name = createNetworkPolicy(client, Collection_Name, id)\n",
    "progress_bar(5)"
   ]
  },
  {
   "cell_type": "code",
   "execution_count": null,
   "metadata": {},
   "outputs": [],
   "source": [
    "\n",
    "# Create collection access policy\n",
    "\"\"\"\n",
    "Notice: need add your own role/user arn in here, e.g.\n",
    "\"Principal\":[ <br>\n",
    "    \"arn:aws:iam::{your-account-id}:user/XXX\",  # credential role arn\n",
    "    \"arn:aws:iam::{your-account-id}:role/Admin\"  # console\n",
    "]\n",
    "\"\"\"\n",
    "    \n",
    "access_policy_name, policy_version = createAccessPolicy(client, Index_Name, Collection_Name, role_arn, account_id, id)"
   ]
  },
  {
   "cell_type": "code",
   "execution_count": null,
   "metadata": {},
   "outputs": [],
   "source": [
    "# Create collection\n",
    "createCollection(client, Collection_Name)\n",
    "# Waite for collection create completely\n",
    "final_host, collectionarn, collection_id = waitForCollectionCreation(client, Collection_Name)\n",
    "progress_bar(2)"
   ]
  },
  {
   "cell_type": "code",
   "execution_count": null,
   "metadata": {},
   "outputs": [],
   "source": [
    "# Create index in collection\n",
    "\n",
    "dimensions = 1536\n",
    "\n",
    "client = OpenSearch(\n",
    "        hosts=[{'host': final_host, 'port': 443}],\n",
    "        http_auth=awsauth,\n",
    "        use_ssl=True,\n",
    "        verify_certs=True,\n",
    "        connection_class=RequestsHttpConnection,\n",
    "        timeout=300\n",
    "    )\n",
    "\n",
    "client.indices.create(\n",
    "    Index_Name,\n",
    "    body={\n",
    "            \"settings\":{\n",
    "                \"index\":{\n",
    "                \"number_of_shards\" : 1,\n",
    "                \"number_of_replicas\" : 0,\n",
    "                \"knn\": \"true\",\n",
    "                \"knn.algo_param.ef_search\": 32\n",
    "                }\n",
    "            },\n",
    "            \"mappings\":{\n",
    "                \"properties\": {\n",
    "                    \"bedrock-knowledge-base-default-vector\": {\n",
    "                        \"type\": \"knn_vector\", \n",
    "                        \"dimension\": dimensions,\n",
    "                        \"method\": {\n",
    "                            \"engine\": \"nmslib\",\n",
    "                            \"space_type\": \"cosinesimil\",\n",
    "                            \"name\": \"hnsw\",\n",
    "                            \"parameters\": {}\n",
    "                        }\n",
    "                    },\n",
    "                    \"AMAZON_BEDROCK_METADATA\": {\n",
    "                        \"type\": \"text\",\n",
    "                        \"index\": False\n",
    "                    },\n",
    "                    \"AMAZON_BEDROCK_TEXT_CHUNK\": {\n",
    "                        \"type\": \"text\"\n",
    "                    },\n",
    "                    \"id\": {\n",
    "                    \"type\": \"text\",\n",
    "                    \"fields\": {\n",
    "                        \"keyword\": {\n",
    "                            \"type\": \"keyword\",\n",
    "                            \"ignore_above\": 256\n",
    "                        }\n",
    "                    }\n",
    "\n",
    "                }\n",
    "            }\n",
    "        }\n",
    "    }\n",
    ")"
   ]
  },
  {
   "cell_type": "markdown",
   "metadata": {},
   "source": [
    "### Step 3. Insert Knowledge to AOS"
   ]
  },
  {
   "cell_type": "code",
   "execution_count": null,
   "metadata": {},
   "outputs": [],
   "source": [
    "# Upload kb file to S3\n",
    "\n",
    "bucket_name = f\"invoice-agent-demo-kb-{id}\"\n",
    "s3_client = boto3.client(\"s3\", region)\n",
    "\n",
    "\n",
    "file_name = \"piaozone2.faq\"\n",
    "file_path = \"../conf/\"\n",
    "response = s3_client.create_bucket(Bucket=bucket_name)\n",
    "upload_file = s3_client.upload_file(os.path.join(file_path, file_name), bucket_name, file_name)\n",
    "s3_path = f\"s3://{bucket_name}/{file_name}\"\n",
    "s3_arn = f\"arn:aws:s3:::{bucket_name}/{file_name}\"\n",
    "print(s3_arn, s3_path)"
   ]
  },
  {
   "cell_type": "code",
   "execution_count": null,
   "metadata": {},
   "outputs": [],
   "source": [
    "def create_vector_embedding_with_bedrock(text, s3_path, docs, embedding_modelId='amazon.titan-embed-text-v1'):\n",
    "    brt = boto3.client(service_name='bedrock-runtime', region_name=region, aws_access_key_id=aws_access_key_id, aws_secret_access_key=aws_secret_access_key)\n",
    "    body = json.dumps({\n",
    "        \"inputText\": text\n",
    "    })\n",
    "\n",
    "    accept = 'application/json'\n",
    "    contentType = 'application/json'\n",
    "    response = brt.invoke_model(body=body, modelId=embedding_modelId, accept=accept, contentType=contentType)\n",
    "    response_body = json.loads(response.get('body').read())\n",
    "    embedding = response_body['embedding']\n",
    "    info = {\n",
    "        \"AMAZON_BEDROCK_METADATA\": '{{\"source\":\"{}\"}}'.format(s3_path), \n",
    "        \"AMAZON_BEDROCK_TEXT_CHUNK\": docs, \n",
    "        \"bedrock-knowledge-base-default-vector\": embedding, \n",
    "        \"id\": \"0\"\n",
    "        }\n",
    "    return info\n",
    "\n",
    "\n",
    "# Use local file embedding text and insert to aos\n",
    "# You can modify this function adapt to your docment format\n",
    "def WriteToAos(file_path, index_name, s3_path):\n",
    "    Q = \"\"\n",
    "    A = \"\"\n",
    "    with open(file_path, \"r\") as rf:\n",
    "        for idx, line in enumerate(rf):\n",
    "            if idx == 10:\n",
    "                break\n",
    "            if line.startswith(\"Question\"):\n",
    "                Q = line.split(\"Question:\")[-1]\n",
    "            elif line.startswith(\"Answer\"):\n",
    "                A = line.split(\"Answer:\")[-1] \n",
    "            elif line.startswith(\"====\"):\n",
    "                doc_template = \"Answer: {}\"\n",
    "                docs = doc_template.format(A)\n",
    "                insert_body_q = create_vector_embedding_with_bedrock(Q, s3_path ,docs)\n",
    "                insert_body_a = create_vector_embedding_with_bedrock(A, s3_path, docs)\n",
    "\n",
    "                response = client.index(\n",
    "                    index=index_name,\n",
    "                    body=insert_body_q,\n",
    "                )\n",
    "                response = client.index(\n",
    "                    index=index_name,\n",
    "                    body=insert_body_a,\n",
    "                )\n",
    "                print(f'Document added: {idx}')\n",
    "                print(response)\n",
    "                Q = \"\"\n",
    "                A = \"\"\n",
    "            else:\n",
    "                continue\n",
    "\n",
    "    if Q != \"\" and A != \"\":\n",
    "        doc_template = \"Answer: {}\"\n",
    "        docs = doc_template.format(A)\n",
    "        insert_body_q = create_vector_embedding_with_bedrock(Q, s3_path ,docs)\n",
    "        insert_body_a = create_vector_embedding_with_bedrock(A, s3_path, docs)\n",
    "\n",
    "        response = client.index(\n",
    "            index=index_name,\n",
    "            body=insert_body_q,\n",
    "        )\n",
    "        response = client.index(\n",
    "            index=index_name,\n",
    "            body=insert_body_a,\n",
    "        )\n",
    "        print('\\nDocument added:')\n",
    "        print(response)  "
   ]
  },
  {
   "cell_type": "code",
   "execution_count": null,
   "metadata": {},
   "outputs": [],
   "source": [
    "WriteToAos(\"../conf/piaozone2.faq\", Index_Name, s3_path)"
   ]
  },
  {
   "cell_type": "markdown",
   "metadata": {},
   "source": [
    "### Step 4. Create Bedrock Knowledge Base"
   ]
  },
  {
   "cell_type": "markdown",
   "metadata": {},
   "source": [
    "#### Step 4.1. Create Bedrock Knowledge Base Role"
   ]
  },
  {
   "cell_type": "code",
   "execution_count": null,
   "metadata": {},
   "outputs": [],
   "source": [
    "from utils import create_role, create_policy, create_policy, attach_policy\n",
    "\n",
    "# Create Bedrock Knowledge Base role\n",
    "# Role name must startwith \"AmazonBedrockExecutionRoleForKnowledgeBase_\" \n",
    "iam = boto3.resource(\"iam\", region_name=region, aws_access_key_id=aws_access_key_id, aws_secret_access_key=aws_secret_access_key)\n",
    "bedrock_knowledge_base_role_name = \"AmazonBedrockExecutionRoleForKnowledgeBase_demo2\"\n",
    "bedrock_knowledge_base_role = create_role(\n",
    "    iam,\n",
    "    bedrock_knowledge_base_role_name,\n",
    "    [\"bedrock.amazonaws.com\"]\n",
    ")\n",
    "print(bedrock_knowledge_base_role.arn)"
   ]
  },
  {
   "cell_type": "code",
   "execution_count": null,
   "metadata": {},
   "outputs": [],
   "source": [
    "# Create s3, bedrock invoke, aos policy\n",
    "s3_file_policy = create_policy(\n",
    "    iam,\n",
    "    f\"invoice-kb-s3-demo-{id}-policy\",\n",
    "    \"Policy for IAM demonstration.\",\n",
    "    [\"s3:GetObject\",\"s3:ListBucket\"],\n",
    "    s3_arn\n",
    ")\n",
    "\n",
    "bedrock_kb_invoke_demo_policy = create_policy(\n",
    "    iam,\n",
    "    f\"invoice-kb-invoke-demo-{id}-policy\",\n",
    "    \"Policy for knowleadge Base demonstration.\",\n",
    "    \"bedrock:InvokeModel\",\n",
    "    \"arn:aws:bedrock:us-east-1::foundation-model/amazon.titan-embed-text-v1\"\n",
    ")\n",
    "\n",
    "\n",
    "bedrock_kb_os_demo_policy = create_policy(\n",
    "    iam,\n",
    "    f\"invoice-kb-aos-demo-{id}-policy\",\n",
    "    \"Policy for knowleadge Base demonstration.\",\n",
    "    \"aoss:APIAccessAll\",\n",
    "    collectionarn \n",
    ")"
   ]
  },
  {
   "cell_type": "code",
   "execution_count": null,
   "metadata": {},
   "outputs": [],
   "source": [
    "# attach policy to Bedrock Agent role\n",
    "attach_policy(\n",
    "    iam,\n",
    "    bedrock_knowledge_base_role_name,\n",
    "    s3_file_policy.arn\n",
    ") \n",
    "attach_policy(\n",
    "    iam,\n",
    "    bedrock_knowledge_base_role_name,\n",
    "    bedrock_kb_invoke_demo_policy.arn\n",
    ")\n",
    "attach_policy(\n",
    "    iam,\n",
    "    bedrock_knowledge_base_role_name,\n",
    "    bedrock_kb_os_demo_policy.arn\n",
    ")"
   ]
  },
  {
   "cell_type": "markdown",
   "metadata": {},
   "source": [
    "#### Step 4.2. Update collection policy"
   ]
  },
  {
   "cell_type": "code",
   "execution_count": null,
   "metadata": {},
   "outputs": [],
   "source": [
    "# update policy for knowledge base role\n",
    "client = boto3.client('opensearchserverless', region, aws_access_key_id=aws_access_key_id, aws_secret_access_key=aws_secret_access_key)\n",
    "\n",
    "\n",
    "updateAccessPolicy(\n",
    "    client, Index_Name, Collection_Name, role_arn, account_id,\n",
    "    access_policy_name, bedrock_knowledge_base_role_name, policy_version\n",
    "    )\n",
    "\n",
    "progress_bar(5)"
   ]
  },
  {
   "cell_type": "code",
   "execution_count": null,
   "metadata": {},
   "outputs": [],
   "source": [
    "# Now, create bedorck Konowledge base\n",
    "\n",
    "client = boto3.client(\"bedrock-agent\", region_name=region, aws_access_key_id=aws_access_key_id, aws_secret_access_key=aws_secret_access_key)\n",
    "knowledge_base_name = 'invoice-kb-demo1'\n",
    "response = client.create_knowledge_base(\n",
    "    name=knowledge_base_name,\n",
    "    description='invocie demo notebook-test',\n",
    "    roleArn=bedrock_knowledge_base_role.arn,\n",
    "    knowledgeBaseConfiguration={\n",
    "        'type': 'VECTOR',\n",
    "        'vectorKnowledgeBaseConfiguration': {\n",
    "            'embeddingModelArn': 'arn:aws:bedrock:us-east-1::foundation-model/amazon.titan-embed-text-v1'\n",
    "        }\n",
    "    },\n",
    "    storageConfiguration={\n",
    "        'type': 'OPENSEARCH_SERVERLESS',\n",
    "        'opensearchServerlessConfiguration': {\n",
    "            'collectionArn': collectionarn,\n",
    "            'vectorIndexName': Index_Name,\n",
    "            'fieldMapping': {\n",
    "                'vectorField': 'bedrock-knowledge-base-default-vector',\n",
    "                'textField': 'AMAZON_BEDROCK_TEXT_CHUNK',\n",
    "                'metadataField': 'AMAZON_BEDROCK_METADATA'\n",
    "            }\n",
    "        }\n",
    "    },\n",
    ")"
   ]
  },
  {
   "cell_type": "code",
   "execution_count": null,
   "metadata": {},
   "outputs": [],
   "source": [
    "knowledge_base_id = response['knowledgeBase']['knowledgeBaseId']\n",
    "knowledge_base_arn = response[\"knowledgeBase\"][\"knowledgeBaseArn\"]\n",
    "print(knowledge_base_id)\n",
    "print(knowledge_base_arn)"
   ]
  },
  {
   "cell_type": "markdown",
   "metadata": {},
   "source": [
    "### Step 5. Test knowledge bases"
   ]
  },
  {
   "cell_type": "markdown",
   "metadata": {},
   "source": [
    "#### Step 5.1. Test knowledge bases retrive"
   ]
  },
  {
   "cell_type": "code",
   "execution_count": null,
   "metadata": {},
   "outputs": [],
   "source": [
    "knowledgebases_client = boto3.client(\"bedrock-agent-runtime\", region, aws_access_key_id=aws_access_key_id, aws_secret_access_key=aws_secret_access_key)\n",
    "response = knowledgebases_client.retrieve(\n",
    "    knowledgeBaseId=knowledge_base_id,\n",
    "    retrievalQuery={\n",
    "        'text': '使用单位线上申请是否一定和线下资料申请时使用单位 保持一致?如果想添加使用单位后续如何添加申请 ?'\n",
    "    },\n",
    "    retrievalConfiguration={\n",
    "        'vectorSearchConfiguration': {\n",
    "            'numberOfResults': 1 \n",
    "        }\n",
    "    },\n",
    ")\n",
    "pprint.pprint(response)"
   ]
  },
  {
   "cell_type": "markdown",
   "metadata": {},
   "source": [
    "#### Step 5.2. Test knowledge bases retrive and generate"
   ]
  },
  {
   "cell_type": "code",
   "execution_count": null,
   "metadata": {},
   "outputs": [],
   "source": [
    "response = knowledgebases_client.retrieve_and_generate(\n",
    "    input={\n",
    "        'text': '使用单位线上申请是否一定和线下资料申请时使用单位 保持一致?如果想添加使用单位后续如何添加申请 ?'\n",
    "    },\n",
    "    \n",
    "    retrieveAndGenerateConfiguration={\n",
    "        'type': 'KNOWLEDGE_BASE',\n",
    "        'knowledgeBaseConfiguration': {\n",
    "            'knowledgeBaseId': knowledge_base_id,\n",
    "            'modelArn': 'arn:aws:bedrock:us-east-1::foundation-model/anthropic.claude-v2'\n",
    "        }\n",
    "    },\n",
    ")\n",
    "pprint.pprint(response)"
   ]
  },
  {
   "cell_type": "markdown",
   "metadata": {},
   "source": [
    "#### Step 5.3. Associate to an agent and test"
   ]
  },
  {
   "cell_type": "code",
   "execution_count": null,
   "metadata": {},
   "outputs": [],
   "source": [
    "# If you didn't grant knowledge base retrieve permission to bedrock agent role before\n",
    "\n",
    "agent_role_name = \"AmazonBedrockExecutionRoleForAgents_demo2\"\n",
    "kb_retrive_policy = create_policy(\n",
    "    iam,\n",
    "    f\"invoice-agent-kb-demo-{id}\",\n",
    "    \"Policy for agent kb retreive.\",\n",
    "    [\"bedrock:Retrieve\"],\n",
    "    [knowledge_base_arn] \n",
    ")\n",
    "\n",
    "attach_policy(\n",
    "    iam,\n",
    "    agent_role_name,\n",
    "    kb_retrive_policy.arn \n",
    ")"
   ]
  },
  {
   "cell_type": "code",
   "execution_count": null,
   "metadata": {},
   "outputs": [],
   "source": [
    "# Associate to an agent\n",
    "\n",
    "agent_id = \"XHAO4M9ZJK\"\n",
    "response = client.associate_agent_knowledge_base(\n",
    "    agentId=agent_id,\n",
    "    agentVersion='DRAFT',\n",
    "    description='Use this knowledge base whenever question relate to invoice or issurance.',\n",
    "    knowledgeBaseId=knowledge_base_id\n",
    ")\n",
    "pprint.pprint(response)"
   ]
  },
  {
   "cell_type": "code",
   "execution_count": null,
   "metadata": {},
   "outputs": [],
   "source": [
    "agent_alias_name = \"demo_agent_kb_test\"\n",
    "response = client.prepare_agent(agentId=agent_id)\n",
    "\n",
    "# Need wait for preparing\n",
    "time.sleep(15)\n",
    "\n",
    "agent_alias_description = \"add kb version\"\n",
    "agent_alias = client.create_agent_alias(\n",
    "    agentId=agent_id,\n",
    "    agentAliasName=agent_alias_name,\n",
    "    description=agent_alias_description\n",
    ")\n",
    "agent_alias_id = agent_alias['agentAlias']['agentAliasId']\n",
    "# Need change to \"bedrock-agent-runtime\" \n",
    "client = boto3.client(\"bedrock-agent-runtime\", region_name=region, aws_access_key_id=aws_access_key_id, aws_secret_access_key=aws_secret_access_key)\n",
    "\n",
    "def invoke(question: str, sessionid: str, agent_id: str, agent_alias_id: str, enable_trace=False):\n",
    "    final_answer = \"\"\n",
    "    response = client.invoke_agent(inputText=question,\n",
    "        agentId=agent_id,\n",
    "        agentAliasId=agent_alias_id,\n",
    "        sessionId=sessionid,\n",
    "        enableTrace=enable_trace\n",
    "    )\n",
    "    event_stream = response['completion']\n",
    "    try:\n",
    "        for event in event_stream:        \n",
    "            # print(event)\n",
    "            if 'chunk' in event:\n",
    "                data = event['chunk']['bytes']\n",
    "                final_answer = data.decode('utf8')\n",
    "                print(f\"Final answer ->\\n{final_answer}\") \n",
    "                end_event_received = True\n",
    "                # End event indicates that the request finished successfully\n",
    "            elif 'trace' in event:\n",
    "                logger.info(json.dumps(event['trace'], indent=2))\n",
    "            else:\n",
    "                raise Exception(\"unexpected event.\", event)\n",
    "    except Exception as e:\n",
    "        raise Exception(\"unexpected event.\", e)\n",
    "    return final_answer "
   ]
  },
  {
   "cell_type": "code",
   "execution_count": null,
   "metadata": {},
   "outputs": [],
   "source": [
    "import uuid\n",
    "sessionid = str(uuid.uuid1())\n",
    "enable_trace:bool = True"
   ]
  },
  {
   "cell_type": "code",
   "execution_count": null,
   "metadata": {},
   "outputs": [],
   "source": [
    "question = \"你好\"\n",
    "answer = invoke(question, sessionid, agent_id, agent_alias_id, enable_trace)"
   ]
  },
  {
   "cell_type": "code",
   "execution_count": null,
   "metadata": {},
   "outputs": [],
   "source": [
    "question = \"我想开发票\"\n",
    "answer = invoke(question, sessionid, agent_id, agent_alias_id, enable_trace)"
   ]
  },
  {
   "cell_type": "code",
   "execution_count": null,
   "metadata": {},
   "outputs": [],
   "source": [
    "question = \"我想查询开发票相关知识，直连单位是指全集团的年收入吗？\"\n",
    "answer = invoke(question, sessionid, agent_id, agent_alias_id, enable_trace)"
   ]
  },
  {
   "cell_type": "markdown",
   "metadata": {},
   "source": [
    "### Step 6. Delete resource"
   ]
  },
  {
   "cell_type": "code",
   "execution_count": null,
   "metadata": {},
   "outputs": [],
   "source": [
    "from utils import teardown\n",
    "\n",
    "\n",
    "# delete Knowledge Base\n",
    "client = boto3.client(\"bedrock-agent\", region_name=region, aws_access_key_id=aws_access_key_id, aws_secret_access_key=aws_secret_access_key)\n",
    "response = client.delete_knowledge_base(\n",
    "    knowledgeBaseId=knowledge_base_id\n",
    ")\n",
    "print(response)\n",
    "\n",
    "# delete collection\n",
    "client = boto3.client('opensearchserverless', region, aws_access_key_id=aws_access_key_id, aws_secret_access_key=aws_secret_access_key)\n",
    "# collection_id = \"bsf93rdvnbxo4gqmr0hc\"\n",
    "response = client.delete_collection(\n",
    "    id=collection_id\n",
    ")\n",
    "\n",
    "# delete S3 buket\n",
    "s3_resource = boto3.resource(\"s3\")\n",
    "bucket = s3_resource.Bucket(bucket_name)\n",
    "bucket.objects.delete()\n",
    "bucket.delete()\n",
    "print(f\"Emptied and deleted bucket {bucket.name}.\\n\")\n",
    "\n",
    "# delete collection policy\n",
    "client = boto3.client('opensearchserverless', region, aws_access_key_id=aws_access_key_id, aws_secret_access_key=aws_secret_access_key)\n",
    "# client = boto3.client('opensearchserverless', region)\n",
    "response = client.delete_access_policy(\n",
    "    name=access_policy_name,\n",
    "    type='data'\n",
    ")\n",
    "response = client.delete_security_policy(\n",
    "    name=encryption_policy_name,\n",
    "    type='encryption'\n",
    ")\n",
    "response = client.delete_security_policy(\n",
    "    name=network_polic_name,\n",
    "    type='network'\n",
    ")\n",
    "\n",
    "# delete role and policy\n",
    "teardown(iam, [bedrock_knowledge_base_role])"
   ]
  }
 ],
 "metadata": {
  "kernelspec": {
   "display_name": "temp",
   "language": "python",
   "name": "python3"
  },
  "language_info": {
   "codemirror_mode": {
    "name": "ipython",
    "version": 3
   },
   "file_extension": ".py",
   "mimetype": "text/x-python",
   "name": "python",
   "nbconvert_exporter": "python",
   "pygments_lexer": "ipython3",
   "version": "3.10.13"
  }
 },
 "nbformat": 4,
 "nbformat_minor": 2
}

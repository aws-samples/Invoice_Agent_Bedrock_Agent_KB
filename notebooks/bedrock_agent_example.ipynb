{
 "cells": [
  {
   "cell_type": "markdown",
   "metadata": {},
   "source": [
    "# Creating an Agent via boto3 SDK\n",
    "Auther: xiaoqunn@amazom.com (GCR ALML GenAI SSA)"
   ]
  },
  {
   "cell_type": "markdown",
   "metadata": {},
   "source": [
    "Creating an Agent via boto3 SDK\n",
    "* Step 0. Pre-requests\n",
    "  + Prepare python environments.\n",
    "  + Open AWS SES service: https://us-east-1.console.aws.amazon.com/ses/home?region=us-east-1#/get-set-up\n",
    "* Step 1. Create Lambda function & upload relevant files to s3\n",
    "  + Step 1.1 Create lambda roles\n",
    "  + Step 1.2 Create lambda function\n",
    "  + Step 1.3 Upload relavent files\n",
    "  + Step 1.4 Create lambda layer & add layer\n",
    "  + Step 1.5 Create bedrock agent role\n",
    "* Step 2. Create an Agent\n",
    "* Step 3. Create Action group\n",
    "* Step 4. Associate knowledge base(Optional)\n",
    "* Step 5. Prepare agent and create agent alias\n",
    "* Step 6. Invoking Agent\n",
    "* Step 8. Test Agent\n",
    "* Step 9. Delete resourse"
   ]
  },
  {
   "cell_type": "markdown",
   "metadata": {},
   "source": [
    "### Step 0. Pre-requests."
   ]
  },
  {
   "cell_type": "markdown",
   "metadata": {},
   "source": [
    "#### Prepare python environments."
   ]
  },
  {
   "cell_type": "code",
   "execution_count": null,
   "metadata": {},
   "outputs": [],
   "source": [
    "!pip install boto3"
   ]
  },
  {
   "cell_type": "markdown",
   "metadata": {},
   "source": [
    "#### Open AWS SES service\n",
    "\n",
    "url: https://us-east-1.console.aws.amazon.com/ses/home?region=us-east-1#/get-set-up"
   ]
  },
  {
   "cell_type": "code",
   "execution_count": null,
   "metadata": {},
   "outputs": [],
   "source": [
    "%%HTML\n",
    "<img src=\"../imgs/Picture1.png\", width=600>"
   ]
  },
  {
   "cell_type": "markdown",
   "metadata": {},
   "source": [
    "This email will automaticlly add to lambda Environment Variables, Use as sender and recipient address(if you want to use another email as recipient, you should verify it too)."
   ]
  },
  {
   "cell_type": "markdown",
   "metadata": {},
   "source": [
    "### Step 1. Create Lambda function & upload relevant files"
   ]
  },
  {
   "cell_type": "code",
   "execution_count": null,
   "metadata": {},
   "outputs": [],
   "source": [
    "import boto3\n",
    "import uuid\n",
    "import logging\n",
    "import json\n",
    "\n",
    "from uuid import uuid4\n",
    "from botocore.exceptions import ClientError\n",
    "from utils import progress_bar\n",
    "\n",
    "\n",
    "logging.basicConfig(format='[%(asctime)s] p%(process)s {%(filename)s:%(lineno)d} %(levelname)s - %(message)s', level=logging.INFO)\n",
    "logger = logging.getLogger(__name__)\n",
    "credentials = boto3.Session().get_credentials()\n",
    "account_id = \"\" # Your Account ID\n",
    "aws_access_key_id = credentials.access_key # you can modify to your access_key \n",
    "aws_secret_access_key = credentials.secret_key  # you can modify to your secret_key \n",
    "region = \"us-east-1\"\n",
    "iam = boto3.resource(\"iam\", region, aws_access_key_id=aws_access_key_id, aws_secret_access_key=aws_secret_access_key)\n",
    "lambda_client= boto3.client(\"lambda\", region, aws_access_key_id=aws_access_key_id, aws_secret_access_key=aws_secret_access_key)\n",
    "\n"
   ]
  },
  {
   "cell_type": "markdown",
   "metadata": {},
   "source": [
    "#### Step 1.1 Create lambda roles"
   ]
  },
  {
   "cell_type": "code",
   "execution_count": null,
   "metadata": {},
   "outputs": [],
   "source": [
    "# create lambda role for bedrock agent\n",
    "from utils import create_role, create_policy, attach_policy, get_role\n",
    "lammbda_role_name = f\"bedrock-agent-lambda-demo-{uuid4()}\"\n",
    "lambda_agent_demo_role = create_role(\n",
    "    iam,\n",
    "    lammbda_role_name,\n",
    "    [\"lambda.amazonaws.com\", \"bedrock.amazonaws.com\"]\n",
    "    )\n",
    "print(f\"{lambda_agent_demo_role.name}, {lambda_agent_demo_role.arn}\")"
   ]
  },
  {
   "cell_type": "code",
   "execution_count": null,
   "metadata": {},
   "outputs": [],
   "source": [
    "# attach full access policy\n",
    "full_access_lambda_policy = create_policy(\n",
    "    iam,\n",
    "    f\"full-demo-policy-{uuid4()}\",\n",
    "    \"Full access for agent lambda demo.\",\n",
    "    \"*\",\n",
    "    \"*\"\n",
    ")\n",
    "attach_policy(\n",
    "    iam,\n",
    "    lammbda_role_name,\n",
    "    full_access_lambda_policy.arn\n",
    ")\n",
    "progress_bar(5)"
   ]
  },
  {
   "cell_type": "markdown",
   "metadata": {},
   "source": [
    "#### Step 1.2 Create lambda function"
   ]
  },
  {
   "cell_type": "code",
   "execution_count": null,
   "metadata": {},
   "outputs": [],
   "source": [
    "from utils import create_function, create_deployment_package\n",
    "\n",
    "# Create lambda function\n",
    "bedrock_agent_lambda_demo = get_role(iam, lammbda_role_name)\n",
    "print(\"Zipping the Python script into a deployment package...\")\n",
    "\n",
    "lambda_name = \"invoice_test2\"\n",
    "deployment_package = create_deployment_package(\n",
    "    \"../invoice_lambda.py\",\n",
    "    f\"{lambda_name}.py\"\n",
    ")\n",
    "print(f\"...and creating the {lambda_name} Lambda function.\")\n",
    "\n",
    "lambda_function_arn = create_function(\n",
    "    lambda_client,\n",
    "    lambda_name,\n",
    "    f\"{lambda_name}.lambda_handler\",\n",
    "    lambda_agent_demo_role,\n",
    "    deployment_package\n",
    ")\n",
    "print(f\"Successfully create the {lambda_name} Lambda function.\")"
   ]
  },
  {
   "cell_type": "markdown",
   "metadata": {},
   "source": [
    "#### Step 1.3 Upload relavent files"
   ]
  },
  {
   "cell_type": "code",
   "execution_count": null,
   "metadata": {},
   "outputs": [],
   "source": [
    "# Zip lambda layer\n",
    "!zip -r ../invoice_lambda_layer.zip ../python"
   ]
  },
  {
   "cell_type": "code",
   "execution_count": null,
   "metadata": {},
   "outputs": [],
   "source": [
    "# 下载知识库文件\n",
    "!wget https://raw.githubusercontent.com/xiaoqunnaws/bedrock_agent_knowledege_base/0ce02abfe74c3e5f39f85b18dec0e9dd9322267c/conf/china_invoice_policy.pdf -O ../conf/china_invoice_policy.pdf"
   ]
  },
  {
   "cell_type": "code",
   "execution_count": null,
   "metadata": {},
   "outputs": [],
   "source": [
    "import os\n",
    "import random\n",
    "bucket_name = f\"invoice-agent-demo-{uuid4()}\"\n",
    "s3_client = boto3.client(\"s3\", region, aws_access_key_id=aws_access_key_id, aws_secret_access_key=aws_secret_access_key)\n",
    "\n",
    "# Upload demo relavant files\n",
    "file_path = \"../conf\"\n",
    "file_list = os.listdir(file_path)\n",
    "print(file_list)\n",
    "response = s3_client.create_bucket(Bucket=bucket_name)\n",
    "for file_name in file_list:\n",
    "    upload_schema = s3_client.upload_file(os.path.join(file_path, file_name), bucket_name, file_name)\n",
    "\n",
    "\n",
    "# Upload lambda layer\n",
    "lambda_layer = \"invoice_lambda_layer.zip\"\n",
    "respose = s3_client.upload_file(\"../\"+lambda_layer, bucket_name, lambda_layer)\n",
    "print(response)\n",
    "\n",
    "# Upload API schema file\n",
    "invoice_schema = \"invoic_schema.json\"\n",
    "respose = s3_client.upload_file(\"../invoice_service_schema.json\", bucket_name, invoice_schema)\n",
    "print(response)\n",
    "s3_schema_path = f\"arn:aws:s3:::{bucket_name}/{invoice_schema}\""
   ]
  },
  {
   "cell_type": "markdown",
   "metadata": {},
   "source": [
    "#### Step 1.4 Create lambda layer & add layer\n",
    "\n",
    "How to create a Python layer for your dependencies, reference link: https://docs.aws.amazon.com/lambda/latest/dg/python-package.html"
   ]
  },
  {
   "cell_type": "code",
   "execution_count": null,
   "metadata": {},
   "outputs": [],
   "source": [
    "LayerName = \"invoice-demo-layer2\"\n",
    "response = lambda_client.publish_layer_version(\n",
    "    LayerName=LayerName,\n",
    "    Description='an layer for agent lambda function',\n",
    "    Content={\n",
    "        'S3Bucket': bucket_name,\n",
    "        'S3Key': lambda_layer,\n",
    "    },\n",
    "    CompatibleRuntimes=[\n",
    "        'python3.10',\n",
    "    ],\n",
    "    CompatibleArchitectures=[\n",
    "        'x86_64',\n",
    "    ]\n",
    ")\n",
    "\n",
    "layer_arn = response[\"LayerArn\"]\n",
    "layer_version_arn = response['LayerVersionArn']\n",
    "layer_version = int(response['Version'])\n",
    "print(f\"layer_arn: {layer_arn}\\nlayer_version: {layer_version}\\nlayer_version_arn: {layer_version_arn}\")\n",
    "progress_bar(5)"
   ]
  },
  {
   "cell_type": "code",
   "execution_count": null,
   "metadata": {},
   "outputs": [],
   "source": [
    "# Add BUCKET_NAME parameter and lambda layer\n",
    "sender_email = \"xiaoqunn@amazon.com\" # Replace by your verified email\n",
    "lambda_client.update_function_configuration(\n",
    "    FunctionName=lambda_name, Environment={\"Variables\": {\"BUCKET_NAME\": bucket_name, \"SENDER\": sender_email}}, Layers=[layer_version_arn]\n",
    ")"
   ]
  },
  {
   "cell_type": "code",
   "execution_count": null,
   "metadata": {},
   "outputs": [],
   "source": [
    "#Add permission\n",
    "\n",
    "# account_id = \"\" # Your Account ID\n",
    "response = lambda_client.add_permission(\n",
    "    FunctionName=lambda_name,\n",
    "    StatementId='allowinvoke',\n",
    "    Action=\"lambda:InvokeFunction\",\n",
    "    Principal=\"bedrock.amazonaws.com\",\n",
    "    SourceArn=f\"arn:aws:bedrock:us-east-1:{account_id}:agent/*\", \n",
    "    SourceAccount=account_id\n",
    ")\n",
    "print(response)"
   ]
  },
  {
   "cell_type": "markdown",
   "metadata": {},
   "source": [
    "#### Step 1.5 Create bedrock agent role"
   ]
  },
  {
   "cell_type": "code",
   "execution_count": null,
   "metadata": {},
   "outputs": [],
   "source": [
    "# Create Bedrock Agent role\n",
    "# Role name must startwith \"AmazonBedrockExecutionRoleForAgents_\" \n",
    "bedrock_agent_role_name = \"AmazonBedrockExecutionRoleForAgents_demo2\"\n",
    "bedrock_agent_role = create_role(\n",
    "        iam,\n",
    "        bedrock_agent_role_name,\n",
    "        [\"bedrock.amazonaws.com\"]\n",
    "    )\n",
    "print(bedrock_agent_role.arn)"
   ]
  },
  {
   "cell_type": "code",
   "execution_count": null,
   "metadata": {},
   "outputs": [],
   "source": [
    "# Create s3 policy and bedrock invoke policy\n",
    "s3_schema_policy = create_policy(\n",
    "    iam,\n",
    "    f\"invoice-schema-policy-{uuid4()}\",\n",
    "    \"Policy for IAM demonstration.\",\n",
    "    [\"s3:GetObject\"], \n",
    "    s3_schema_path\n",
    ")\n",
    "bedrock_agent_invoke_demo_policy = create_policy(\n",
    "    iam,\n",
    "    f\"bedrock_agent_invoke_demo_policy-{uuid4()}\",\n",
    "    \"Policy for IAM demonstration.\",\n",
    "    \"bedrock:InvokeModel\",\n",
    "    [f\"arn:aws:bedrock:{region}::foundation-model/anthropic.claude-v2\",\n",
    "     f\"arn:aws:bedrock:{region}::foundation-model/anthropic.claude-v2:1\",\n",
    "     f\"arn:aws:bedrock:{region}::foundation-model/anthropic.claude-instant-v1\",\n",
    "     f\"arn:aws:bedrock:{region}::foundation-model/anthropic.claude-3-sonnet-20240229-v1:0\",\n",
    "     f\"arn:aws:bedrock:{region}::foundation-model/anthropic.claude-3-haiku-20240307-v1:0\"]\n",
    ")\n",
    "\n"
   ]
  },
  {
   "cell_type": "code",
   "execution_count": null,
   "metadata": {},
   "outputs": [],
   "source": [
    "# attach policy to Bedrock Agent role\n",
    "attach_policy(\n",
    "    iam,\n",
    "    bedrock_agent_role.name,\n",
    "    s3_schema_policy.arn\n",
    ")\n",
    "attach_policy(\n",
    "    iam,\n",
    "    bedrock_agent_role.name,\n",
    "    bedrock_agent_invoke_demo_policy.arn\n",
    ")\n",
    "\n"
   ]
  },
  {
   "cell_type": "markdown",
   "metadata": {},
   "source": [
    "### Step 2. Create an Agent"
   ]
  },
  {
   "cell_type": "code",
   "execution_count": null,
   "metadata": {},
   "outputs": [],
   "source": [
    "client = boto3.client(\"bedrock-agent\", region_name=region, aws_access_key_id=aws_access_key_id, aws_secret_access_key=aws_secret_access_key)\n",
    "\n",
    "agent_name = \"invoice-test-demo2\"\n",
    "\n",
    "# Claude 3 Sonnet instruction\n",
    "instructions = \"\"\"You are an AI assistant with the capability help user with using given tools. If the user asks to issue an invoice, the first thing you need to do is collect all the required information, then call the functions.\"\"\"\n",
    "\n",
    "# Claude V2 instruction\n",
    "# instructions = \"\"\"You are a friendly invoice assistant. When greeted, answer user with \"I'm an invoice assistant\". Through the \"InvoiceService\" action group, you can offer invoice services. When generating an invoice, first collect all required invoice information from user. Then generate invoice preview information for the user's reference and return text_info from the function result to user. Confirm with user if they want to proceed with generating the actual invoice. If user confirms, use function to generate an invoice formally and return the downloadUrl from the function result to user. This allows user to download the invoice. If user indicates the information is incorrect, ask them to provide corrected information and generate preview infomation again. Finally confirm if the user needs the invoice sent to a designated email address, if so, email the invoice file to the address provided.\"\"\"\n",
    "\n",
    "response = client.create_agent(\n",
    "    agentName = agent_name,\n",
    "    agentResourceRoleArn = bedrock_agent_role.arn,\n",
    "    description = \"invocie test\",\n",
    "    idleSessionTTLInSeconds = 1800,\n",
    "    foundationModel = \"anthropic.claude-3-sonnet-20240229-v1:0\",\n",
    "    instruction = instructions,\n",
    ")\n",
    "agent_id = response['agent']['agentId']\n",
    "progress_bar(5)"
   ]
  },
  {
   "cell_type": "markdown",
   "metadata": {},
   "source": [
    "### Step 3. Create Action group"
   ]
  },
  {
   "cell_type": "code",
   "execution_count": null,
   "metadata": {},
   "outputs": [],
   "source": [
    "action_group_name = \"InvoiceService\"\n",
    "s3_bucket = bucket_name\n",
    "s3_object_key = invoice_schema\n",
    "description = \"An invocie service\"\n",
    "\n",
    "response = client.create_agent_action_group(\n",
    "    agentId=agent_id,\n",
    "    agentVersion='DRAFT', \n",
    "    actionGroupExecutor={\n",
    "        'lambda': lambda_function_arn\n",
    "        },\n",
    "    actionGroupName = action_group_name,\n",
    "    apiSchema={\n",
    "        's3': {\n",
    "            's3BucketName': s3_bucket,\n",
    "            's3ObjectKey': s3_object_key\n",
    "            }\n",
    "    },\n",
    "    description = description\n",
    ")"
   ]
  },
  {
   "cell_type": "markdown",
   "metadata": {},
   "source": [
    "### Step 4. Associate knowledge base(Optional)\n",
    "<strong> You can create a knowledge base use \"knowledge_base.ipynb\" </strong>"
   ]
  },
  {
   "cell_type": "code",
   "execution_count": null,
   "metadata": {},
   "outputs": [],
   "source": [
    "# You can create a knowledge base use \"knowledge_base.ipynb\"\n",
    "# If you already have a knoweledge base, and you want to integrate it in agent, uncomment it \n",
    "\n",
    "# knowledge_base_arn = f\"arn:aws:bedrock:us-east-1:{account_id}:knowledge-base/*\"\n",
    "\n",
    "# kb_retrive_policy = create_policy(\n",
    "#     iam,\n",
    "#     \"invoice-agent-kb-demo-policy\",\n",
    "#     \"Policy for agent kb retreive.\",\n",
    "#     [\"bedrock:Retrieve\"],\n",
    "#     [knowledge_base_arn] \n",
    "# )\n",
    "\n",
    "# attach_policy(\n",
    "#     iam,\n",
    "#     bedrock_agent_role.name,\n",
    "#     kb_retrive_policy.arn \n",
    "# )\n",
    "\n",
    "# response = client.associate_agent_knowledge_base(\n",
    "#     agentId=agent_id,\n",
    "#     agentVersion='DRAFT',\n",
    "#     description='Use this knowledge base whenever question relate to invoice or issurance.',\n",
    "#     knowledgeBaseId='<KNOWLEDGEBASE_ID>'\n",
    "# )"
   ]
  },
  {
   "cell_type": "markdown",
   "metadata": {},
   "source": [
    "### Step 5. Prepare agent and create agent alias"
   ]
  },
  {
   "cell_type": "code",
   "execution_count": null,
   "metadata": {},
   "outputs": [],
   "source": [
    "import time\n",
    "agent_alias_name = \"demo_test\"\n",
    "\n",
    "client = boto3.client(\"bedrock-agent\", region_name=region, aws_access_key_id=aws_access_key_id, aws_secret_access_key=aws_secret_access_key)\n",
    "response = client.prepare_agent(agentId=agent_id)\n",
    "progress_bar(10)"
   ]
  },
  {
   "cell_type": "markdown",
   "metadata": {},
   "source": [
    "Notice: Need to wait a minute for prepare agent"
   ]
  },
  {
   "cell_type": "code",
   "execution_count": null,
   "metadata": {},
   "outputs": [],
   "source": [
    "agent_alias_description = \"init version\"\n",
    "# agent_alias_description = \"version2\"\n",
    "agent_alias = client.create_agent_alias(\n",
    "    agentId=agent_id,\n",
    "    agentAliasName=agent_alias_name,\n",
    "    description=agent_alias_description\n",
    ")\n",
    "agent_alias_id = agent_alias['agentAlias']['agentAliasId']"
   ]
  },
  {
   "cell_type": "markdown",
   "metadata": {},
   "source": [
    "### Step 6. Invoking Agent"
   ]
  },
  {
   "cell_type": "code",
   "execution_count": null,
   "metadata": {},
   "outputs": [],
   "source": [
    "# Need change to \"bedrock-agent-runtime\" \n",
    "client = boto3.client(\"bedrock-agent-runtime\", region_name=region, aws_access_key_id=aws_access_key_id, aws_secret_access_key=aws_secret_access_key)\n",
    "\n",
    "sessionid = str(uuid.uuid1())\n",
    "enable_trace:bool = True \n",
    "\n",
    "def invoke(question: str, sessionid: str, agent_id: str, agent_alias_id: str, enable_trace=False):\n",
    "    final_answer = \"\"\n",
    "    response = client.invoke_agent(\n",
    "        inputText=question, # 输入文本\n",
    "        agentId=agent_id,  # 创建的 Agent 的 ID\n",
    "        agentAliasId=agent_alias_id, # 创建的 Agent alias id\n",
    "        sessionId=sessionid, # 当前会话的session id\n",
    "        enableTrace=enable_trace # 是否打开 trace\n",
    "    )\n",
    "    event_stream = response['completion']\n",
    "    try:\n",
    "        for event in event_stream:        \n",
    "            # print(event)\n",
    "            if 'chunk' in event:\n",
    "                data = event['chunk']['bytes']\n",
    "                final_answer = data.decode('utf8')\n",
    "                print(f\"Final answer ->\\n{final_answer}\") \n",
    "                end_event_received = True\n",
    "                # End event indicates that the request finished successfully\n",
    "            elif 'trace' in event:\n",
    "                trace = event['trace']\n",
    "                logger.info(json.dumps(event['trace'], indent=2))\n",
    "            else:\n",
    "                raise Exception(\"unexpected event.\", event)\n",
    "    except Exception as e:\n",
    "        raise Exception(\"unexpected event.\", e)\n",
    "    \n",
    "    return final_answer"
   ]
  },
  {
   "cell_type": "markdown",
   "metadata": {},
   "source": [
    "### Step 9. Test\n",
    "You can also test in console"
   ]
  },
  {
   "cell_type": "code",
   "execution_count": null,
   "metadata": {},
   "outputs": [],
   "source": [
    "sessionid = str(uuid.uuid1())\n",
    "enable_trace:bool = True "
   ]
  },
  {
   "cell_type": "code",
   "execution_count": null,
   "metadata": {},
   "outputs": [],
   "source": [
    "question = \"Hello\"\n",
    "answer = invoke(question, sessionid, agent_id, agent_alias_id, enable_trace)"
   ]
  },
  {
   "cell_type": "code",
   "execution_count": null,
   "metadata": {},
   "outputs": [],
   "source": [
    "question = \"我要开发票\"\n",
    "answer = invoke(question, sessionid, agent_id, agent_alias_id, enable_trace)"
   ]
  },
  {
   "cell_type": "code",
   "execution_count": null,
   "metadata": {},
   "outputs": [],
   "source": [
    "question = \"91440300MA5FAE9E4P, 华韵公司，小麦，1010101020000000000，9000\"\n",
    "answer = invoke(question, sessionid, agent_id, agent_alias_id, enable_trace)"
   ]
  },
  {
   "cell_type": "code",
   "execution_count": null,
   "metadata": {},
   "outputs": [],
   "source": [
    "question = \"确认\"\n",
    "answer = invoke(question, sessionid, agent_id, agent_alias_id, enable_trace)"
   ]
  },
  {
   "cell_type": "code",
   "execution_count": null,
   "metadata": {},
   "outputs": [],
   "source": [
    "question = \"发送发票到邮箱，xiaoqunn@amazon.com\"\n",
    "answer = invoke(question, sessionid, agent_id, agent_alias_id, enable_trace)"
   ]
  },
  {
   "cell_type": "markdown",
   "metadata": {},
   "source": [
    "## Step 9. Delete resource"
   ]
  },
  {
   "cell_type": "code",
   "execution_count": null,
   "metadata": {},
   "outputs": [],
   "source": [
    "from utils import teardown\n",
    "\n",
    "# delete Agent\n",
    "client = boto3.client(\"bedrock-agent\", region_name=region, aws_access_key_id=aws_access_key_id, aws_secret_access_key=aws_secret_access_key)\n",
    "response = client.delete_agent(\n",
    "    agentId=agent_id,\n",
    "    skipResourceInUseCheck=True\n",
    ")\n",
    "\n",
    "# delete lambda function\n",
    "response = lambda_client.delete_function(\n",
    "    FunctionName=lambda_name,\n",
    ")\n",
    "print(response)\n",
    "\n",
    "# delete lambda layer\n",
    "response = lambda_client.delete_layer_version(\n",
    "    LayerName=LayerName,\n",
    "    VersionNumber=layer_version\n",
    ")\n",
    "print(response)\n",
    "\n",
    "\n",
    "# delete S3 buket\n",
    "s3_resource = boto3.resource(\"s3\")\n",
    "bucket = s3_resource.Bucket(bucket_name)\n",
    "bucket.objects.delete()\n",
    "bucket.delete()\n",
    "print(f\"Emptied and deleted bucket {bucket.name}.\\n\")\n",
    "\n",
    "# delete role and policy\n",
    "teardown(iam, [lambda_agent_demo_role, bedrock_agent_role])\n"
   ]
  },
  {
   "cell_type": "code",
   "execution_count": null,
   "metadata": {},
   "outputs": [],
   "source": []
  }
 ],
 "metadata": {
  "kernelspec": {
   "display_name": "Agent",
   "language": "python",
   "name": "python3"
  },
  "language_info": {
   "codemirror_mode": {
    "name": "ipython",
    "version": 3
   },
   "file_extension": ".py",
   "mimetype": "text/x-python",
   "name": "python",
   "nbconvert_exporter": "python",
   "pygments_lexer": "ipython3",
   "version": "3.10.13"
  }
 },
 "nbformat": 4,
 "nbformat_minor": 2
}
